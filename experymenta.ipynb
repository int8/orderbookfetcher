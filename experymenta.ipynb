{
 "cells": [
  {
   "cell_type": "code",
   "execution_count": 1,
   "metadata": {},
   "outputs": [],
   "source": [
    "%load_ext autoreload\n",
    "%autoreload 2\n",
    "\n",
    "import requests\n",
    "import msgpack\n",
    "import zlib\n",
    "import traceback\n",
    "import time\n",
    "import os\n",
    "import boto3\n",
    "from concurrent.futures import ThreadPoolExecutor \n",
    "import concurrent.futures \n",
    "import datetime \n",
    "import pandas as pd \n",
    "from tqdm.notebook import tqdm\n",
    "import numpy as np \n",
    "\n",
    "\n",
    "from src.model import OrderBookChunksCollection, OrderBook\n",
    "\n",
    "# import pickle \n",
    "# PRICE_DIFF_BEST_BINS = pickle.load(open(\"data/price_diff_best_bins.bin\", \"rb\"))\n",
    "# AMOUNT_BEST_BINS = pickle.load(open(\"data/amount_best_bins.bin\", \"rb\"))\n",
    "# AMOUNT_INDICES = dict(zip(AMOUNT_BEST_BINS, list(range(len(AMOUNT_BEST_BINS)))))\n",
    "# PRICE_DIFF_INDICES = dict(zip(PRICE_DIFF_BEST_BINS, list(range(len(PRICE_DIFF_BEST_BINS)))))\n",
    "\n",
    "\n"
   ]
  },
  {
   "cell_type": "code",
   "execution_count": 7,
   "metadata": {},
   "outputs": [],
   "source": [
    "order_book_col = OrderBookChunksCollection(bucket_name=\"btc-order-book\")"
   ]
  },
  {
   "cell_type": "code",
   "execution_count": 3,
   "metadata": {},
   "outputs": [],
   "source": [
    "all_keys = order_book_col.get_all_keys(\n",
    "    start_date = datetime.datetime(2019, 10, 27), \n",
    "    end_date = datetime.datetime(2021, 12,22)\n",
    ")"
   ]
  },
  {
   "cell_type": "code",
   "execution_count": 19,
   "metadata": {},
   "outputs": [],
   "source": [
    "chunks = OrderBookChunksCollection.get_min_chunks(keys=all_keys, min_number_of_elements=20000)"
   ]
  },
  {
   "cell_type": "code",
   "execution_count": 22,
   "metadata": {},
   "outputs": [
    {
     "data": {
      "text/plain": [
       "221"
      ]
     },
     "execution_count": 22,
     "metadata": {},
     "output_type": "execute_result"
    }
   ],
   "source": [
    "len(chunks)"
   ]
  },
  {
   "cell_type": "code",
   "execution_count": null,
   "metadata": {},
   "outputs": [],
   "source": [
    "for day in pd.date_range('2019-11-01', '2021-09-06'):\n",
    "    print(d, datetime.datetime.now())\n",
    "    d = str(day)[:10]\n",
    "    keys = get_keys_per_day(d, s3)\n",
    "    order_books = get_all_order_books_dicts(s3, keys)\n",
    "    bids_dfs = dict()\n",
    "    asks_dfs = dict()\n",
    "    for i, key in tqdm(enumerate(keys)):   \n",
    "        asks_dfs[key] = get_asks_df_for_key(order_books, key)\n",
    "        bids_dfs[key] = get_bids_df_for_key(order_books, key)\n",
    "    daily_tensor = create_daily_tensor(asks_dfs, bids_dfs, keys)\n",
    "    np.savez_compressed(f\"/tmp/{d}.bin\", daily_tensor)\n",
    "    np.savez_compressed(f\"/tmp/{d}_keys.bin\", np.array(keys))\n",
    "    s3.upload_file(Filename=f\"/tmp/{d}.bin.npz\", Bucket='btc-datasets', Key=f'v1/{d}/order-book-tensor.npz')\n",
    "    s3.upload_file(Filename=f\"/tmp/{d}_keys.bin.npz\", Bucket='btc-datasets', Key=f'v1/{d}/keys.npz')\n",
    "    "
   ]
  },
  {
   "cell_type": "code",
   "execution_count": null,
   "metadata": {
    "scrolled": true
   },
   "outputs": [],
   "source": [
    "# import random\n",
    "# days = [str(s)[:10] for s in pd.date_range('2020-01-01', '2021-09-03')]\n",
    "# days = random.sample(days, k = 150)\n",
    "# asks_dfs = []\n",
    "# bids_dfs = []\n",
    "# for day in days:\n",
    "#     try:\n",
    "#         keys = get_keys_per_day(day, s3, max_keys=1000)\n",
    "#         random.shuffle(keys)\n",
    "#         for k in keys[0:7]:\n",
    "#             ask_df = get_asks_df_for_key(order_books, key)\n",
    "#             asks_dfs.append(ask_df)\n",
    "            \n",
    "#             bid_df =  get_bids_df_for_key(order_books, key)\n",
    "#             bids_dfs.append(bid_df)        \n",
    "#         print(day)\n",
    "#     except Exception as e: \n",
    "#         print(day, \"error\",e )\n",
    "# big_asks_df = pd.concat(asks_dfs)\n",
    "# big_bids_df = pd.concat(bids_dfs)"
   ]
  },
  {
   "cell_type": "code",
   "execution_count": null,
   "metadata": {},
   "outputs": [],
   "source": [
    "# price_diff_series = pd.concat([pd.Series(big_asks_df.asks), pd.Series(1. - big_bids_df.bids)])\n",
    "# amount_series = pd.concat([pd.Series(big_asks_df.amounts), pd.Series(big_bids_df.amounts)])\n",
    "\n",
    "# pickle.dump(pd.qcut(pd.concat([price_diff_series, pd.Series(0), pd.Series(0.5)]), q=250, duplicates='drop').cat.categories, open(\"price_diff_best_bins.bin\", \"wb\"))\n",
    "# pickle.dump(pd.qcut(pd.concat([amount_series, pd.Series(0), pd.Series(1000000)]), q=250, duplicates='drop').cat.categories, open(\"amount_best_bins.bin\", \"wb\"))"
   ]
  },
  {
   "cell_type": "code",
   "execution_count": null,
   "metadata": {},
   "outputs": [],
   "source": [
    "prices = []\n",
    "for i in range(5000):\n",
    "    key = keys[i]\n",
    "    price = (order_books[key][b'bids'][0][0] / 10.  + order_books[key][b'asks'][0][0] / 10. ) / 2\n",
    "    prices.append(price)\n",
    "for i, key in tqdm(enumerate(keys[0:5000])):   \n",
    "    \n",
    "    grid = plt.GridSpec(3, 1, wspace=0.4, hspace=0.3)\n",
    "\n",
    "    plt.figure(figsize=(20,20))\n",
    "    ax1 = plt.subplot(grid[0])\n",
    "    ax1.imshow(daily_tensor[0, i, :], cmap='Greys', interpolation='nearest')\n",
    "    ax1.set_xticks([])\n",
    "    ax1.set_yticks([])\n",
    "    \n",
    "    ax2 = plt.subplot(grid[1])\n",
    "    ax2.imshow(daily_tensor[1, i, :], cmap='Greys', interpolation='nearest')\n",
    "    ax2.set_xticks([])\n",
    "    ax2.set_yticks([])\n",
    "    \n",
    "    ax3 = plt.subplot(grid[2])\n",
    "    ax3.plot(list(range(0,5000)), prices, color='grey', lw=1)\n",
    "    ax3.plot(i, prices[i], 'go',  lw=10)\n",
    "    ax3.set_xticks([])\n",
    "    ax3.set_yticks([])\n",
    "    \n",
    "    plt.savefig(f\"images/{str(i).zfill(5)}.png\")\n",
    "    plt.close()\n",
    "    "
   ]
  }
 ],
 "metadata": {
  "kernelspec": {
   "display_name": "Python 3 (ipykernel)",
   "language": "python",
   "name": "python3"
  },
  "language_info": {
   "codemirror_mode": {
    "name": "ipython",
    "version": 3
   },
   "file_extension": ".py",
   "mimetype": "text/x-python",
   "name": "python",
   "nbconvert_exporter": "python",
   "pygments_lexer": "ipython3",
   "version": "3.8.6"
  }
 },
 "nbformat": 4,
 "nbformat_minor": 2
}
