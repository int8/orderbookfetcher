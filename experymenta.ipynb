{
 "cells": [
  {
   "cell_type": "code",
   "execution_count": 1,
   "metadata": {},
   "outputs": [],
   "source": [
    "%load_ext autoreload\n",
    "%autoreload 2\n",
    "\n",
    "import requests\n",
    "import msgpack\n",
    "import zlib\n",
    "import traceback\n",
    "import time\n",
    "import os\n",
    "import boto3\n",
    "from concurrent.futures import ThreadPoolExecutor \n",
    "import concurrent.futures \n",
    "import datetime \n",
    "import pandas as pd \n",
    "from tqdm.notebook import tqdm\n",
    "import numpy as np \n",
    "\n",
    "\n",
    "from src.model import OrderBookChunksCollection, OrderBook, S3OrderBookDataSource, OrderBooksDataSequenceDatasetV1\n",
    "import pickle \n",
    "PRICE_DIFF_BEST_BINS = pickle.load(open(\"data/price_diff_best_bins.bin\", \"rb\"))\n",
    "AMOUNT_BEST_BINS = pickle.load(open(\"data/amount_usd_best_bins.bin\", \"rb\"))\n",
    "AMOUNT_INDICES = dict(zip(AMOUNT_BEST_BINS, list(range(len(AMOUNT_BEST_BINS)))))\n",
    "PRICE_DIFF_INDICES = dict(zip(PRICE_DIFF_BEST_BINS, list(range(len(PRICE_DIFF_BEST_BINS)))))\n",
    "\n",
    "\n"
   ]
  },
  {
   "cell_type": "code",
   "execution_count": 2,
   "metadata": {},
   "outputs": [],
   "source": [
    "order_book_col = OrderBookChunksCollection(bucket_name=\"btc-order-book\")"
   ]
  },
  {
   "cell_type": "code",
   "execution_count": 3,
   "metadata": {},
   "outputs": [],
   "source": [
    "# all_keys = order_book_col.get_all_keys(\n",
    "#     start_date = datetime.datetime(2019, 10, 27), \n",
    "#     end_date = datetime.datetime(2021, 12,22)\n",
    "# )\n",
    "# pickle.dump(obj=all_keys, file=open(\"all_keys.pkl\",\"wb\"))\n",
    "all_keys = pickle.load(open(\"all_keys.pkl\", \"rb\"))"
   ]
  },
  {
   "cell_type": "code",
   "execution_count": null,
   "metadata": {},
   "outputs": [],
   "source": []
  },
  {
   "cell_type": "code",
   "execution_count": 4,
   "metadata": {},
   "outputs": [],
   "source": [
    "chunks = OrderBookChunksCollection.get_chunks(keys=all_keys, min_number_of_elements=20000)"
   ]
  },
  {
   "cell_type": "code",
   "execution_count": 5,
   "metadata": {},
   "outputs": [
    {
     "data": {
      "text/plain": [
       "221"
      ]
     },
     "execution_count": 5,
     "metadata": {},
     "output_type": "execute_result"
    }
   ],
   "source": [
    "len(chunks)"
   ]
  },
  {
   "cell_type": "code",
   "execution_count": 6,
   "metadata": {},
   "outputs": [],
   "source": [
    "k= 0 \n",
    "for i in range(len(chunks)):\n",
    "    for chunk in chunks[i].chunks():\n",
    "            k += 1"
   ]
  },
  {
   "cell_type": "code",
   "execution_count": 7,
   "metadata": {},
   "outputs": [
    {
     "data": {
      "text/plain": [
       "2325"
      ]
     },
     "execution_count": 7,
     "metadata": {},
     "output_type": "execute_result"
    }
   ],
   "source": [
    "k"
   ]
  },
  {
   "cell_type": "code",
   "execution_count": 8,
   "metadata": {},
   "outputs": [],
   "source": [
    "s3_client = boto3.client(\"s3\")\n",
    "source = S3OrderBookDataSource(bucket_name=\"btc-order-book\", s3_client=s3_client)"
   ]
  },
  {
   "cell_type": "code",
   "execution_count": null,
   "metadata": {
    "scrolled": true
   },
   "outputs": [],
   "source": [
    "\n",
    "# t = order_books['2019-10-27/1572188743'].get_tensor(\n",
    "#     amount_bins=AMOUNT_BEST_BINS,\n",
    "#     amount_indices=AMOUNT_INDICES, \n",
    "#     price_diff_bins=PRICE_DIFF_BEST_BINS,\n",
    "#     price_diff_indices=PRICE_DIFF_INDICES\n",
    "# )"
   ]
  },
  {
   "cell_type": "code",
   "execution_count": null,
   "metadata": {},
   "outputs": [],
   "source": [
    "# m = order_books[100].get_sparse_matrices(\n",
    "#     amount_bins=AMOUNT_BEST_BINS,\n",
    "#     amount_indices=AMOUNT_INDICES, \n",
    "#     price_diff_bins=PRICE_DIFF_BEST_BINS,\n",
    "#     price_diff_indices=PRICE_DIFF_INDICES\n",
    "# )"
   ]
  },
  {
   "cell_type": "code",
   "execution_count": null,
   "metadata": {},
   "outputs": [],
   "source": [
    "# m['bids_sparse'].__dir__()"
   ]
  },
  {
   "cell_type": "code",
   "execution_count": null,
   "metadata": {},
   "outputs": [],
   "source": []
  },
  {
   "cell_type": "code",
   "execution_count": null,
   "metadata": {},
   "outputs": [],
   "source": [
    "# from matplotlib import pyplot as plt \n",
    "# plt.figure(figsize=(20,20))\n",
    "# plt.imshow(m['bids_sparse'].toarray(),  cmap='Greys', interpolation='nearest', origin='lower')"
   ]
  },
  {
   "cell_type": "code",
   "execution_count": null,
   "metadata": {
    "scrolled": true
   },
   "outputs": [],
   "source": [
    "# ts = [] \n",
    "# for k in chunks[0].chunks()[0].sorted_keys:\n",
    "#     ob = order_books[k]\n",
    "#     t = ob.get_sparse_matrices(\n",
    "#         amount_bins=AMOUNT_BEST_BINS,\n",
    "#         amount_indices=AMOUNT_INDICES, \n",
    "#         price_diff_bins=PRICE_DIFF_BEST_BINS,\n",
    "#         price_diff_indices=PRICE_DIFF_INDICES\n",
    "#     )\n",
    "#     ts.append(t)\n",
    "#     print(k)"
   ]
  },
  {
   "cell_type": "code",
   "execution_count": null,
   "metadata": {},
   "outputs": [],
   "source": [
    "# sparse.save_npz(matrix=ts[0]['bids_sparse'], file = \"tz0\")"
   ]
  },
  {
   "cell_type": "code",
   "execution_count": null,
   "metadata": {},
   "outputs": [],
   "source": [
    "# from scipy import sparse\n",
    "# sparse.csc_matrix(ts[0][1])"
   ]
  },
  {
   "cell_type": "code",
   "execution_count": null,
   "metadata": {},
   "outputs": [],
   "source": [
    "# t = order_books['2019-10-27/1572188743'].to_tensor(\n",
    "#     amount_bins=AMOUNT_BEST_BINS,\n",
    "#     amount_indices=AMOUNT_INDICES, \n",
    "#     price_diff_bins=PRICE_DIFF_BEST_BINS,\n",
    "#     price_diff_indices=PRICE_DIFF_INDICES\n",
    "# )"
   ]
  },
  {
   "cell_type": "code",
   "execution_count": null,
   "metadata": {},
   "outputs": [],
   "source": [
    "\n",
    "\n",
    "        "
   ]
  },
  {
   "cell_type": "code",
   "execution_count": 9,
   "metadata": {
    "scrolled": true
   },
   "outputs": [],
   "source": [
    "from src.model import OrderBookChunksCollection, OrderBook, S3OrderBookDataSource, OrderBooksDataSequenceDatasetV1\n",
    "# s = time.time() \n",
    "order_books = source.get_all_order_books(keys=chunks[220].chunks(chunk_size=5000)[0].keys)\n",
    "# print(time.time() -s)"
   ]
  },
  {
   "cell_type": "code",
   "execution_count": 10,
   "metadata": {},
   "outputs": [
    {
     "name": "stdout",
     "output_type": "stream",
     "text": [
      "38.442007303237915\n"
     ]
    }
   ],
   "source": [
    "import time \n",
    "s = time.time() \n",
    "dataset = OrderBooksDataSequenceDatasetV1(\n",
    "    order_books, amount_best_bins=AMOUNT_BEST_BINS, amount_indices=AMOUNT_INDICES, price_diff_best_bins=PRICE_DIFF_BEST_BINS, price_diff_indices=PRICE_DIFF_INDICES\n",
    ")\n",
    "s = time.time() \n",
    "dataset.save(\"chunk4.tar.gz\")\n",
    "print(time.time() - s)"
   ]
  },
  {
   "cell_type": "code",
   "execution_count": null,
   "metadata": {},
   "outputs": [],
   "source": [
    "OrderBooksDataSequenceDatasetV1.load(\"chunk4.tar.gz\")"
   ]
  },
  {
   "cell_type": "code",
   "execution_count": null,
   "metadata": {},
   "outputs": [],
   "source": [
    "from matplotlib import pyplot as plt \n",
    "plt.figure(figsize=(24,12))\n",
    "pd.Series(Y[6,: ]).rolling(window=100).mean().plot()\n"
   ]
  },
  {
   "cell_type": "code",
   "execution_count": null,
   "metadata": {},
   "outputs": [],
   "source": [
    "order_books[10].bids == order_books[0].bids"
   ]
  },
  {
   "cell_type": "code",
   "execution_count": null,
   "metadata": {},
   "outputs": [],
   "source": [
    "import sys"
   ]
  },
  {
   "cell_type": "code",
   "execution_count": null,
   "metadata": {},
   "outputs": [],
   "source": [
    "sys.getsizeof(dict(Y=Y, X=X))"
   ]
  },
  {
   "cell_type": "code",
   "execution_count": 12,
   "metadata": {},
   "outputs": [
    {
     "data": {
      "text/plain": [
       "True"
      ]
     },
     "execution_count": 12,
     "metadata": {},
     "output_type": "execute_result"
    }
   ],
   "source": [
    "dataset.validate()"
   ]
  },
  {
   "cell_type": "code",
   "execution_count": null,
   "metadata": {},
   "outputs": [],
   "source": [
    "1634720444 - 1634719706"
   ]
  },
  {
   "cell_type": "code",
   "execution_count": null,
   "metadata": {},
   "outputs": [],
   "source": [
    "from __future__ import annotations\n",
    "import concurrent\n",
    "import datetime\n",
    "import traceback\n",
    "import zlib\n",
    "from abc import abstractmethod, ABC\n",
    "from concurrent.futures import ThreadPoolExecutor\n",
    "from functools import reduce\n",
    "from multiprocessing import Pool\n",
    "\n",
    "from typing import List, Dict\n",
    "\n",
    "import dataclasses\n",
    "\n",
    "import boto3\n",
    "import msgpack\n",
    "import numpy as np\n",
    "import pandas as pd\n",
    "from scipy import sparse\n",
    "\n",
    "ACCEPTABLE_PRICE_DIFF = 0.03\n"
   ]
  },
  {
   "cell_type": "code",
   "execution_count": null,
   "metadata": {},
   "outputs": [],
   "source": [
    "with open(\"/home/kamil/Downloads/1634719706\", \"rb\") as f :\n",
    "    object_content = f.read()\n",
    "    decompressed_bytes = zlib.decompress(object_content)\n",
    "    raw_dict = msgpack.unpackb(\n",
    "        decompressed_bytes\n",
    "    )"
   ]
  },
  {
   "cell_type": "code",
   "execution_count": null,
   "metadata": {},
   "outputs": [],
   "source": [
    "x = raw_dict[b'asks']"
   ]
  },
  {
   "cell_type": "code",
   "execution_count": null,
   "metadata": {},
   "outputs": [],
   "source": [
    "with open(\"/home/kamil/Downloads/1634720444\", \"rb\") as f :\n",
    "    object_content = f.read()\n",
    "    decompressed_bytes = zlib.decompress(object_content)\n",
    "    raw_dict = msgpack.unpackb(\n",
    "        decompressed_bytes\n",
    "    )"
   ]
  },
  {
   "cell_type": "code",
   "execution_count": null,
   "metadata": {},
   "outputs": [],
   "source": [
    "raw_dict[b'asks'] == x"
   ]
  },
  {
   "cell_type": "code",
   "execution_count": 11,
   "metadata": {},
   "outputs": [
    {
     "data": {
      "text/plain": [
       "1440"
      ]
     },
     "execution_count": 11,
     "metadata": {},
     "output_type": "execute_result"
    }
   ],
   "source": [
    "60 * 24\n"
   ]
  },
  {
   "cell_type": "code",
   "execution_count": null,
   "metadata": {},
   "outputs": [],
   "source": []
  }
 ],
 "metadata": {
  "kernelspec": {
   "display_name": "Python 3 (ipykernel)",
   "language": "python",
   "name": "python3"
  },
  "language_info": {
   "codemirror_mode": {
    "name": "ipython",
    "version": 3
   },
   "file_extension": ".py",
   "mimetype": "text/x-python",
   "name": "python",
   "nbconvert_exporter": "python",
   "pygments_lexer": "ipython3",
   "version": "3.8.6"
  }
 },
 "nbformat": 4,
 "nbformat_minor": 2
}
