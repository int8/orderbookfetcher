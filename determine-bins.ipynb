{
 "cells": [
  {
   "cell_type": "code",
   "execution_count": 2,
   "id": "aadd55d9",
   "metadata": {},
   "outputs": [],
   "source": [
    "%load_ext autoreload\n",
    "%autoreload 2\n",
    "\n",
    "import requests\n",
    "import msgpack\n",
    "import zlib\n",
    "import traceback\n",
    "import time\n",
    "import os\n",
    "import boto3\n",
    "from concurrent.futures import ThreadPoolExecutor \n",
    "import concurrent.futures \n",
    "import datetime \n",
    "import pandas as pd \n",
    "from tqdm.notebook import tqdm\n",
    "import numpy as np \n",
    "import pickle \n",
    "from src.model import OrderBookChunksCollection, OrderBook, S3OrderBookDataSource, OrderBooksDataSequenceBase, ACCEPTABLE_PRICE_DIFF\n"
   ]
  },
  {
   "cell_type": "code",
   "execution_count": 3,
   "id": "3832d707",
   "metadata": {},
   "outputs": [],
   "source": [
    "order_book_col = OrderBookChunksCollection(bucket_name=\"btc-order-book\")\n",
    "\n",
    "all_keys = order_book_col.get_all_keys(\n",
    "    start_date = datetime.datetime(2019, 10, 17), \n",
    "    end_date = datetime.datetime(2021,12, 30)\n",
    ")\n",
    "import random \n",
    "random.shuffle(all_keys)"
   ]
  },
  {
   "cell_type": "code",
   "execution_count": 4,
   "id": "2e08f0ca",
   "metadata": {},
   "outputs": [],
   "source": [
    "s3_client = boto3.client(\"s3\")\n",
    "source = S3OrderBookDataSource(bucket_name=\"btc-order-book\", s3_client=s3_client)\n",
    "order_books_sample = source.get_all_order_books(keys=all_keys[::300])"
   ]
  },
  {
   "cell_type": "code",
   "execution_count": 84,
   "id": "fdb5763a",
   "metadata": {},
   "outputs": [],
   "source": [
    "amounts_usds = []\n",
    "price_diff = []\n",
    "for order_book in order_books_sample:\n",
    "    for bid in order_book.bids:        \n",
    "        if 1 - bid.price / order_book.current_price <= ACCEPTABLE_PRICE_DIFF:\n",
    "            price_diff.append(1 - bid.price / order_book.current_price)                \n",
    "            amounts_usds.append(bid.amount_usd)\n",
    "    for ask in order_book.asks:\n",
    "        \n",
    "        if ask.price / order_book.current_price - 1.0 <= ACCEPTABLE_PRICE_DIFF:\n",
    "            price_diff.append(ask.price / order_book.current_price - 1.0)\n",
    "            amounts_usds.append(ask.amount_usd)\n",
    "    \n"
   ]
  },
  {
   "cell_type": "code",
   "execution_count": 35,
   "id": "454e5391",
   "metadata": {},
   "outputs": [],
   "source": [
    "s = pd.Series( + [0, np.inf])"
   ]
  },
  {
   "cell_type": "code",
   "execution_count": 93,
   "id": "dc694825",
   "metadata": {},
   "outputs": [],
   "source": [
    "def glue(interval_a, interval_b):\n",
    "    tuples_a = interval_a.to_tuples().to_list()\n",
    "    tuples_b = interval_b.to_tuples().to_list()    \n",
    "    return pd.IntervalIndex.from_tuples(\n",
    "        tuples_a[:-1] + [(tuples_a[-1][0], tuples_b[0][1])] +  tuples_b[1:]        \n",
    "    )\n",
    "        \n",
    "def get_bins(a, r, prepend_with= None, append_with=None):\n",
    "    intervals = []\n",
    "    for t_min, t_max, n in r:                \n",
    "        s = pd.Series(a + [t_min, t_max])\n",
    "        s_cut = pd.qcut(s[(s < t_max) & (s >= t_min)] , q=n) \n",
    "        intervals.append(s_cut.cat.categories)\n",
    "    if prepend_with:\n",
    "        interval = glue(pd.IntervalIndex.from_tuples(prepend_with), intervals[0])        \n",
    "    else:\n",
    "        interval = intervals[0]\n",
    "        \n",
    "    for i in range(1, len(intervals)):        \n",
    "        interval = glue(interval, intervals[i])\n",
    "    \n",
    "    if append_with:\n",
    "        interval = glue(interval, pd.IntervalIndex.from_tuples(append_with))\n",
    "    \n",
    "    return interval             \n",
    "    "
   ]
  },
  {
   "cell_type": "code",
   "execution_count": 97,
   "id": "f49a8ebe",
   "metadata": {},
   "outputs": [],
   "source": [
    "price_diff_bins = get_bins(\n",
    "    price_diff, \n",
    "    [(0, 0.01, 180), (0.01, 0.02, 53), (0.02, 0.03, 22)], \n",
    "    prepend_with=[(-np.Inf, -0.05), (-0.05, -0.02), (-0.02, -0.01), (-0.01, 0)],\n",
    "    append_with=[(0.03, np.Inf)]\n",
    ")"
   ]
  },
  {
   "cell_type": "code",
   "execution_count": null,
   "id": "27a1a460",
   "metadata": {},
   "outputs": [],
   "source": [
    "amount_usd_indices = dict(zip(s.cat.categories, range(256)))\n",
    "amount_best_bins = s.cat.categories"
   ]
  },
  {
   "cell_type": "code",
   "execution_count": 99,
   "id": "ea52181b",
   "metadata": {},
   "outputs": [],
   "source": [
    "import pickle \n",
    "pickle.dump(file=open(\"data/amount_usd_best_bins_256_001.bin\", \"wb\"), obj=amount_best_bins)\n",
    "pickle.dump(file=open(\"data/price_diff_best_bins_256_003_handcrafted_including_negative.bin\", \"wb\"), obj=price_diff_bins)"
   ]
  },
  {
   "cell_type": "code",
   "execution_count": null,
   "id": "c2177636",
   "metadata": {},
   "outputs": [],
   "source": []
  }
 ],
 "metadata": {
  "kernelspec": {
   "display_name": "Python 3 (ipykernel)",
   "language": "python",
   "name": "python3"
  },
  "language_info": {
   "codemirror_mode": {
    "name": "ipython",
    "version": 3
   },
   "file_extension": ".py",
   "mimetype": "text/x-python",
   "name": "python",
   "nbconvert_exporter": "python",
   "pygments_lexer": "ipython3",
   "version": "3.8.6"
  }
 },
 "nbformat": 4,
 "nbformat_minor": 5
}
