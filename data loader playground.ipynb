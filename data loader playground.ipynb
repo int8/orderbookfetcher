{
 "cells": [
  {
   "cell_type": "code",
   "execution_count": 41,
   "id": "f5d4540b",
   "metadata": {},
   "outputs": [
    {
     "name": "stdout",
     "output_type": "stream",
     "text": [
      "The autoreload extension is already loaded. To reload it, use:\n",
      "  %reload_ext autoreload\n"
     ]
    }
   ],
   "source": [
    "%load_ext autoreload\n",
    "%autoreload 2\n",
    "from src.data import OrderBooksDataset, OrderBooksDataLoader\n",
    "\n"
   ]
  },
  {
   "cell_type": "code",
   "execution_count": null,
   "id": "d11a56f2",
   "metadata": {},
   "outputs": [],
   "source": []
  },
  {
   "cell_type": "code",
   "execution_count": null,
   "id": "1f59d277",
   "metadata": {},
   "outputs": [],
   "source": []
  },
  {
   "cell_type": "code",
   "execution_count": 42,
   "id": "d820a394",
   "metadata": {},
   "outputs": [],
   "source": [
    "import random"
   ]
  },
  {
   "cell_type": "code",
   "execution_count": 43,
   "id": "4a94f7cb",
   "metadata": {},
   "outputs": [],
   "source": [
    "prev_files = []\n",
    "d = OrderBooksDataset(\"/home/kamil/work/hobby/data/orderbooks/v2/\", epoch_size = 16*1000, files_to_merge = 50)     "
   ]
  },
  {
   "cell_type": "code",
   "execution_count": 44,
   "id": "8048cf84",
   "metadata": {},
   "outputs": [],
   "source": [
    "data_loader = OrderBooksDataLoader(d, batch_size = 16)"
   ]
  },
  {
   "cell_type": "code",
   "execution_count": null,
   "id": "917cd4a3",
   "metadata": {},
   "outputs": [],
   "source": [
    "for i in range(1000):\n",
    "    for x,y in iter(data_loader):\n",
    "        pass"
   ]
  },
  {
   "cell_type": "code",
   "execution_count": 46,
   "id": "931f8b6b",
   "metadata": {},
   "outputs": [
    {
     "name": "stdout",
     "output_type": "stream",
     "text": [
      "2021-11-18-1637228402-1637249217_64.tar.gz\n",
      "2019-12-02-1575315189-1575335784_64.tar.gz\n",
      "2020-08-31-1598856476-1598876994_64.tar.gz\n",
      "2020-09-22-1600768069-1600788630_64.tar.gz\n",
      "2020-06-30-1593493481-1593511159_64.tar.gz\n",
      "2021-11-22-1637598618-1637619431_64.tar.gz\n",
      "2021-09-09-1631223624-1631244398_64.tar.gz\n",
      "2020-01-06-1578321874-1578342480_64.tar.gz\n",
      "2020-06-02-1591122623-1591143148_64.tar.gz\n",
      "2021-02-18-1613656820-1613677586_64.tar.gz\n",
      "2020-08-24-1598292899-1598313391_64.tar.gz\n",
      "2021-11-01-1635734193-1635754940_64.tar.gz\n",
      "2021-02-08-1612760898-1612783844_64.tar.gz\n",
      "2021-08-08-1628407265-1628427020_64.tar.gz\n",
      "2021-10-19-1634617347-1634638098_64.tar.gz\n",
      "2020-03-11-1583960711-1583981448_64.tar.gz\n",
      "2021-08-21-1629537122-1629557873_64.tar.gz\n",
      "2021-12-13-1639392275-1639413111_64.tar.gz\n",
      "2020-07-23-1595548567-1595569070_64.tar.gz\n",
      "2021-04-05-1617657093-1617677851_64.tar.gz\n",
      "2021-03-06-1615019971-1615028899_64.tar.gz\n",
      "2021-08-14-1628900567-1628921287_64.tar.gz\n",
      "2019-12-28-1577560063-1577580656_64.tar.gz\n",
      "2020-06-23-1592884813-1592905326_64.tar.gz\n",
      "2021-01-25-1611601045-1611621616_64.tar.gz\n",
      "2020-05-25-1590450906-1590471423_64.tar.gz\n",
      "2020-05-13-1589351893-1589372402_64.tar.gz\n",
      "2021-12-05-1638727837-1638748658_64.tar.gz\n",
      "2021-02-28-1614510734-1614531477_64.tar.gz\n",
      "2019-12-10-1575962452-1575983024_64.tar.gz\n",
      "2020-06-13-1592011699-1592032192_64.tar.gz\n",
      "2021-11-11-1636644313-1636665102_64.tar.gz\n",
      "2020-04-21-1587465349-1587485849_64.tar.gz\n",
      "2020-10-20-1603185927-1603206491_64.tar.gz\n",
      "2019-11-28-1574985189-1575005727_64.tar.gz\n",
      "2020-03-03-1583271836-1583292317_64.tar.gz\n",
      "2021-10-28-1635404707-1635425525_64.tar.gz\n",
      "2021-08-18-1629316874-1629337617_64.tar.gz\n",
      "2020-08-02-1596386424-1596406938_64.tar.gz\n",
      "2021-08-01-1627846116-1627866849_64.tar.gz\n",
      "2019-12-23-1577086292-1577106889_64.tar.gz\n",
      "2020-11-12-1605170509-1605191062_64.tar.gz\n",
      "2021-05-10-1620688136-1620708887_64.tar.gz\n",
      "2021-09-17-1631861148-1631881908_64.tar.gz\n",
      "2021-06-11-1623448589-1623469320_64.tar.gz\n",
      "2020-12-05-1607192427-1607212954_64.tar.gz\n",
      "2019-12-14-1576329102-1576349662_64.tar.gz\n",
      "2019-12-19-1576716236-1576736782_64.tar.gz\n",
      "2021-09-10-1631285936-1631306725_64.tar.gz\n",
      "2021-06-11-1623426287-1623427810_64.tar.gz\n",
      "2020-12-20-1608429994-1608450460_64.tar.gz\n"
     ]
    }
   ],
   "source": []
  },
  {
   "cell_type": "code",
   "execution_count": null,
   "id": "7ba98ab9",
   "metadata": {},
   "outputs": [],
   "source": []
  },
  {
   "cell_type": "code",
   "execution_count": null,
   "id": "59ff8676",
   "metadata": {},
   "outputs": [],
   "source": []
  }
 ],
 "metadata": {
  "kernelspec": {
   "display_name": "Python 3 (ipykernel)",
   "language": "python",
   "name": "python3"
  },
  "language_info": {
   "codemirror_mode": {
    "name": "ipython",
    "version": 3
   },
   "file_extension": ".py",
   "mimetype": "text/x-python",
   "name": "python",
   "nbconvert_exporter": "python",
   "pygments_lexer": "ipython3",
   "version": "3.8.10"
  }
 },
 "nbformat": 4,
 "nbformat_minor": 5
}
